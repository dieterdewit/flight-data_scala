{
 "cells": [
  {
   "cell_type": "markdown",
   "id": "74f7ea57",
   "metadata": {},
   "source": [
    "# Flight Data Assignment\n",
    "**Dieter Esteban de Wit Torres**"
   ]
  },
  {
   "cell_type": "markdown",
   "id": "27b05b1f",
   "metadata": {},
   "source": [
    "### Setting up Spark"
   ]
  },
  {
   "cell_type": "code",
   "execution_count": 1,
   "id": "cccc1f4e",
   "metadata": {},
   "outputs": [
    {
     "data": {
      "text/plain": [
       "\u001b[32mimport \u001b[39m\u001b[36m$ivy.$                                  \u001b[39m"
      ]
     },
     "execution_count": 1,
     "metadata": {},
     "output_type": "execute_result"
    }
   ],
   "source": [
    "// Import SparkSQL version 2.4.8\n",
    "import $ivy.`org.apache.spark::spark-sql:2.4.8`"
   ]
  },
  {
   "cell_type": "code",
   "execution_count": 2,
   "id": "cb27f828",
   "metadata": {},
   "outputs": [
    {
     "data": {
      "text/plain": [
       "\u001b[32mimport \u001b[39m\u001b[36morg.apache.spark.sql._\n",
       "\u001b[39m\n",
       "\u001b[32mimport \u001b[39m\u001b[36morg.apache.spark.sql.functions._\n",
       "\u001b[39m\n",
       "\u001b[32mimport \u001b[39m\u001b[36morg.apache.spark.sql.expressions.Window\n",
       "\u001b[39m\n",
       "\u001b[32mimport \u001b[39m\u001b[36morg.apache.spark.sql.types.StructType\n",
       "\u001b[39m\n",
       "\u001b[32mimport \u001b[39m\u001b[36morg.apache.spark.sql.DataFrame\n",
       "\n",
       "\u001b[39m\n",
       "\u001b[32mimport \u001b[39m\u001b[36mjava.time.LocalDate\n",
       "\u001b[39m\n",
       "\u001b[32mimport \u001b[39m\u001b[36mjava.sql.Date\u001b[39m"
      ]
     },
     "execution_count": 2,
     "metadata": {},
     "output_type": "execute_result"
    }
   ],
   "source": [
    "// Imports\n",
    "import org.apache.spark.sql._\n",
    "import org.apache.spark.sql.functions._\n",
    "import org.apache.spark.sql.expressions.Window\n",
    "import org.apache.spark.sql.types.StructType\n",
    "import org.apache.spark.sql.DataFrame\n",
    "\n",
    "import java.time.LocalDate\n",
    "import java.sql.Date"
   ]
  },
  {
   "cell_type": "code",
   "execution_count": 3,
   "id": "2feb5aec",
   "metadata": {},
   "outputs": [
    {
     "data": {
      "text/plain": [
       "\u001b[32mimport \u001b[39m\u001b[36morg.apache.log4j.{Level, Logger}\n",
       "\u001b[39m"
      ]
     },
     "execution_count": 3,
     "metadata": {},
     "output_type": "execute_result"
    }
   ],
   "source": [
    "// Disable server warnings to avoid extra text on cells\n",
    "import org.apache.log4j.{Level, Logger}\n",
    "Logger.getLogger(\"org\").setLevel(Level.OFF)"
   ]
  },
  {
   "cell_type": "markdown",
   "id": "56943c22",
   "metadata": {},
   "source": [
    "#### To run in MyBinder\n",
    "Comment the following cell if running with Spark Standalone or Yarn Cluster"
   ]
  },
  {
   "cell_type": "code",
   "execution_count": 4,
   "id": "d9d19a45",
   "metadata": {},
   "outputs": [
    {
     "name": "stdout",
     "output_type": "stream",
     "text": [
      "Loading spark-stubs\n"
     ]
    },
    {
     "name": "stderr",
     "output_type": "stream",
     "text": [
      "SLF4J: No SLF4J providers were found.\n",
      "SLF4J: Defaulting to no-operation (NOP) logger implementation\n",
      "SLF4J: See https://www.slf4j.org/codes.html#noProviders for further details.\n"
     ]
    },
    {
     "name": "stdout",
     "output_type": "stream",
     "text": [
      "Creating SparkSession\n"
     ]
    },
    {
     "name": "stderr",
     "output_type": "stream",
     "text": [
      "Using Spark's default log4j profile: org/apache/spark/log4j-defaults.properties\n"
     ]
    },
    {
     "data": {
      "text/html": [
       "<a target=\"_blank\" href=\"http://172.31.95.123:4040\">Spark UI</a>"
      ]
     },
     "metadata": {},
     "output_type": "display_data"
    },
    {
     "data": {
      "text/plain": [
       "\u001b[36mspark\u001b[39m: \u001b[32mSparkSession\u001b[39m = org.apache.spark.sql.SparkSession@70935890"
      ]
     },
     "execution_count": 4,
     "metadata": {},
     "output_type": "execute_result"
    }
   ],
   "source": [
    "// Local Mode, in the same JVM as the kernel\n",
    "val spark = {\n",
    "  NotebookSparkSession.builder()\n",
    "    .master(\"local[*]\")\n",
    "    .getOrCreate()\n",
    "}"
   ]
  },
  {
   "cell_type": "markdown",
   "id": "d2a566d7",
   "metadata": {},
   "source": [
    "#### Running locally with a Spark Standalone Cluster\n",
    "Comment the following cell if running it on MyBinder"
   ]
  },
  {
   "cell_type": "code",
   "execution_count": 4,
   "id": "5b2de204",
   "metadata": {},
   "outputs": [],
   "source": [
    "// Connect to the Spark Standalone cluster\n",
    "// val spark = {\n",
    "//    NotebookSparkSession.builder()\n",
    "//    .master(\"spark://localhost:7077\")\n",
    "//    .config(\"spark.executor.instances\", \"4\")\n",
    "//    .config(\"spark.executor.memory\", \"2g\")\n",
    "//    .getOrCreate()\n",
    "//}"
   ]
  },
  {
   "cell_type": "code",
   "execution_count": 5,
   "id": "36385500",
   "metadata": {},
   "outputs": [
    {
     "data": {
      "text/plain": [
       "\u001b[32mimport \u001b[39m\u001b[36mspark.implicits._\u001b[39m"
      ]
     },
     "execution_count": 5,
     "metadata": {},
     "output_type": "execute_result"
    }
   ],
   "source": [
    "// Spark Imports\n",
    "import spark.implicits._"
   ]
  },
  {
   "cell_type": "code",
   "execution_count": 6,
   "id": "180d3de9",
   "metadata": {},
   "outputs": [
    {
     "data": {
      "text/plain": [
       "defined \u001b[32mfunction\u001b[39m \u001b[36msc\u001b[39m"
      ]
     },
     "execution_count": 6,
     "metadata": {},
     "output_type": "execute_result"
    }
   ],
   "source": [
    "// Get a Spark Context\n",
    "def sc = spark.sparkContext"
   ]
  },
  {
   "cell_type": "markdown",
   "id": "43e16b9e",
   "metadata": {},
   "source": [
    "### Reading the data"
   ]
  },
  {
   "cell_type": "code",
   "execution_count": 7,
   "id": "b7162b64",
   "metadata": {},
   "outputs": [
    {
     "data": {
      "text/plain": [
       "defined \u001b[32mfunction\u001b[39m \u001b[36mreadCsvToDataset\u001b[39m"
      ]
     },
     "execution_count": 7,
     "metadata": {},
     "output_type": "execute_result"
    }
   ],
   "source": [
    "/**\n",
    "  * Reads a CSV file into a dataset of a specified type & schema.\n",
    "  *\n",
    "  * @param spark   SparkSession to use for reading the file.\n",
    "  * @param path    Path to the CSV file.\n",
    "  * @param schema  Schema of the CSV file.\n",
    "  * @param encoder Encoder used to convert CSV rows to objects of type T\n",
    "  * @tparam T      Type of the objects to be returned\n",
    "  * @return A dataset of the specified type.\n",
    "  */\n",
    "def readCsvToDataset[T](spark: SparkSession, path: String, schema: StructType, encoder: Encoder[T]): Dataset[T] = {\n",
    "    val dateFormat = \"yyyy-MM-dd\"\n",
    "    val dateColumnExists = schema.fieldNames.contains(\"date\")\n",
    "    \n",
    "    val reader = spark.read\n",
    "        .option(\"header\", \"true\")\n",
    "        .schema(schema)\n",
    "        // In case of handling large files, set the csv to be read in\n",
    "        // parallel, partitions depending on cores on cluster.\n",
    "        .option(\"spark.sql.shuffle.partitions\", \"4\")\n",
    "    \n",
    "    if (dateColumnExists) {\n",
    "        reader.option(\"dateFormat\", dateFormat)\n",
    "    }\n",
    "    \n",
    "    reader.csv(path).as(encoder)\n",
    "}"
   ]
  },
  {
   "cell_type": "code",
   "execution_count": 8,
   "id": "94e50362",
   "metadata": {},
   "outputs": [
    {
     "data": {
      "text/plain": [
       "defined \u001b[32mclass\u001b[39m \u001b[36mPassenger\u001b[39m\n",
       "\u001b[36mpassengerSchema\u001b[39m: \u001b[32mStructType\u001b[39m = \u001b[33mStructType\u001b[39m(\n",
       "  \u001b[33mStructField\u001b[39m(\u001b[32m\"passengerId\"\u001b[39m, IntegerType, \u001b[32mtrue\u001b[39m, {}),\n",
       "  \u001b[33mStructField\u001b[39m(\u001b[32m\"firstName\"\u001b[39m, StringType, \u001b[32mtrue\u001b[39m, {}),\n",
       "  \u001b[33mStructField\u001b[39m(\u001b[32m\"lastName\"\u001b[39m, StringType, \u001b[32mtrue\u001b[39m, {})\n",
       ")\n",
       "\u001b[36mpassengerData\u001b[39m: \u001b[32mDataset\u001b[39m[\u001b[32mPassenger\u001b[39m] = [passengerId: int, firstName: string ... 1 more field]"
      ]
     },
     "execution_count": 8,
     "metadata": {},
     "output_type": "execute_result"
    }
   ],
   "source": [
    "org.apache.spark.sql.catalyst.encoders.OuterScopes.addOuterScope(this);\n",
    "\n",
    "case class Passenger(passengerId: Int, firstName: String, lastName: String)\n",
    "\n",
    "val passengerSchema = new StructType()\n",
    "  .add(\"passengerId\", \"integer\")\n",
    "  .add(\"firstName\", \"string\")\n",
    "  .add(\"lastName\", \"string\")\n",
    "\n",
    "val passengerData: Dataset[Passenger] = readCsvToDataset[Passenger](\n",
    "    spark,\n",
    "    \"passengers.csv\",\n",
    "    passengerSchema,\n",
    "    Encoders.product[Passenger]\n",
    ")"
   ]
  },
  {
   "cell_type": "code",
   "execution_count": 9,
   "id": "c1aacd82",
   "metadata": {},
   "outputs": [
    {
     "data": {
      "text/html": [
       "<script>\n",
       "var comm = Jupyter.notebook.kernel.comm_manager.new_comm('cancel-stage-08ca0568-72f5-47f3-8380-d2f57d6d486d', {});\n",
       "\n",
       "function cancelStage(stageId) {\n",
       "  console.log('Cancelling stage ' + stageId);\n",
       "  comm.send({ 'stageId': stageId });\n",
       "}\n",
       "</script>\n",
       "          "
      ]
     },
     "metadata": {},
     "output_type": "display_data"
    },
    {
     "data": {
      "text/html": [
       "<div>\n",
       "  <span style=\"float: left;\">show at cmd8.sc:1</span>\n",
       "</div>\n"
      ]
     },
     "metadata": {},
     "output_type": "display_data"
    },
    {
     "data": {
      "text/html": [
       "<div class=\"progress\">\n",
       "  <div class=\"progress-bar\" role=\"progressbar\" style=\"background-color: blue; width: 100%; word-wrap: normal; white-space: nowrap; text-align: center; color: white\" aria-valuenow=\"100\" aria-valuemin=\"0\" aria-valuemax=\"100\">\n",
       "    1 / 1\n",
       "  </div>\n",
       "  <div class=\"progress-bar\" role=\"progressbar\" style=\"background-color: red; width: 0%\" aria-valuenow=\"0\" aria-valuemin=\"0\" aria-valuemax=\"100\"></div>\n",
       "</div>\n"
      ]
     },
     "metadata": {},
     "output_type": "display_data"
    },
    {
     "name": "stdout",
     "output_type": "stream",
     "text": [
      "+-----------+---------+--------+\n",
      "|passengerId|firstName|lastName|\n",
      "+-----------+---------+--------+\n",
      "|      14751| Napoleon| Gaylene|\n",
      "|       2359| Katherin| Shanell|\n",
      "|       5872|   Stevie|  Steven|\n",
      "|       3346|Margarita|   Gerri|\n",
      "|       3704|    Earle|  Candis|\n",
      "|       1226|    Trent|    Omer|\n",
      "|       2677|    Janee|  Lillia|\n",
      "|        179|     Gita|Chastity|\n",
      "|       9763|   Hilton|Jaquelyn|\n",
      "|      11414|      Leo|Margaret|\n",
      "|       6870|     Tama|     Bok|\n",
      "|       3290|    Logan|    Anya|\n",
      "|      13264|   Lowell|Kathryne|\n",
      "|        455|  Maritza|  Maxima|\n",
      "|      13006|     Yuri|   Joyce|\n",
      "|      10323|  Latasha|  Estell|\n",
      "|       7376|   Kaycee|Kiersten|\n",
      "|      15015|   Curtis| Abraham|\n",
      "|       9217|   Verena|Josefine|\n",
      "|       5183|     Loan| Latonya|\n",
      "+-----------+---------+--------+\n",
      "only showing top 20 rows\n",
      "\n"
     ]
    }
   ],
   "source": [
    "passengerData.show()"
   ]
  },
  {
   "cell_type": "code",
   "execution_count": 10,
   "id": "be259aba",
   "metadata": {},
   "outputs": [
    {
     "data": {
      "text/plain": [
       "defined \u001b[32mclass\u001b[39m \u001b[36mFlightRecord\u001b[39m\n",
       "\u001b[36mflightRecordSchema\u001b[39m: \u001b[32mStructType\u001b[39m = \u001b[33mStructType\u001b[39m(\n",
       "  \u001b[33mStructField\u001b[39m(\u001b[32m\"passengerId\"\u001b[39m, IntegerType, \u001b[32mtrue\u001b[39m, {}),\n",
       "  \u001b[33mStructField\u001b[39m(\u001b[32m\"flightId\"\u001b[39m, IntegerType, \u001b[32mtrue\u001b[39m, {}),\n",
       "  \u001b[33mStructField\u001b[39m(\u001b[32m\"from\"\u001b[39m, StringType, \u001b[32mtrue\u001b[39m, {}),\n",
       "  \u001b[33mStructField\u001b[39m(\u001b[32m\"to\"\u001b[39m, StringType, \u001b[32mtrue\u001b[39m, {}),\n",
       "  \u001b[33mStructField\u001b[39m(\u001b[32m\"date\"\u001b[39m, StringType, \u001b[32mtrue\u001b[39m, {})\n",
       ")\n",
       "\u001b[36mflightRecordData\u001b[39m: \u001b[32mDataset\u001b[39m[\u001b[32mFlightRecord\u001b[39m] = [passengerId: int, flightId: int ... 3 more fields]"
      ]
     },
     "execution_count": 10,
     "metadata": {},
     "output_type": "execute_result"
    }
   ],
   "source": [
    "org.apache.spark.sql.catalyst.encoders.OuterScopes.addOuterScope(this);\n",
    "\n",
    "case class FlightRecord(passengerId: Int, flightId: Int, from: String, to: String, date: String)\n",
    "\n",
    "val flightRecordSchema = new StructType()\n",
    "  .add(\"passengerId\", \"integer\")\n",
    "  .add(\"flightId\", \"integer\")\n",
    "  .add(\"from\", \"string\")\n",
    "  .add(\"to\", \"string\")\n",
    "  .add(\"date\", \"string\")\n",
    "\n",
    "val flightRecordData: Dataset[FlightRecord] = readCsvToDataset[FlightRecord](\n",
    "    spark,\n",
    "    \"flightData.csv\",\n",
    "    flightRecordSchema,\n",
    "    Encoders.product[FlightRecord]\n",
    ")"
   ]
  },
  {
   "cell_type": "code",
   "execution_count": 11,
   "id": "bf5a89a2",
   "metadata": {},
   "outputs": [
    {
     "data": {
      "text/html": [
       "<div>\n",
       "  <span style=\"float: left;\">show at cmd10.sc:1</span>\n",
       "</div>\n"
      ]
     },
     "metadata": {},
     "output_type": "display_data"
    },
    {
     "data": {
      "text/html": [
       "<div class=\"progress\">\n",
       "  <div class=\"progress-bar\" role=\"progressbar\" style=\"background-color: blue; width: 100%; word-wrap: normal; white-space: nowrap; text-align: center; color: white\" aria-valuenow=\"100\" aria-valuemin=\"0\" aria-valuemax=\"100\">\n",
       "    1 / 1\n",
       "  </div>\n",
       "  <div class=\"progress-bar\" role=\"progressbar\" style=\"background-color: red; width: 0%\" aria-valuenow=\"0\" aria-valuemin=\"0\" aria-valuemax=\"100\"></div>\n",
       "</div>\n"
      ]
     },
     "metadata": {},
     "output_type": "display_data"
    },
    {
     "name": "stdout",
     "output_type": "stream",
     "text": [
      "+-----------+--------+----+---+----------+\n",
      "|passengerId|flightId|from| to|      date|\n",
      "+-----------+--------+----+---+----------+\n",
      "|         48|       0|  cg| ir|2017-01-01|\n",
      "|         94|       0|  cg| ir|2017-01-01|\n",
      "|         82|       0|  cg| ir|2017-01-01|\n",
      "|         21|       0|  cg| ir|2017-01-01|\n",
      "|         51|       0|  cg| ir|2017-01-01|\n",
      "|         33|       0|  cg| ir|2017-01-01|\n",
      "|         20|       0|  cg| ir|2017-01-01|\n",
      "|         10|       0|  cg| ir|2017-01-01|\n",
      "|         49|       0|  cg| ir|2017-01-01|\n",
      "|         32|       0|  cg| ir|2017-01-01|\n",
      "|         70|       0|  cg| ir|2017-01-01|\n",
      "|         28|       0|  cg| ir|2017-01-01|\n",
      "|         42|       0|  cg| ir|2017-01-01|\n",
      "|         62|       0|  cg| ir|2017-01-01|\n",
      "|         80|       0|  cg| ir|2017-01-01|\n",
      "|         13|       0|  cg| ir|2017-01-01|\n",
      "|         46|       0|  cg| ir|2017-01-01|\n",
      "|         43|       0|  cg| ir|2017-01-01|\n",
      "|         17|       0|  cg| ir|2017-01-01|\n",
      "|         16|       0|  cg| ir|2017-01-01|\n",
      "+-----------+--------+----+---+----------+\n",
      "only showing top 20 rows\n",
      "\n"
     ]
    }
   ],
   "source": [
    "flightRecordData.show()"
   ]
  },
  {
   "cell_type": "markdown",
   "id": "fdb9aee4",
   "metadata": {},
   "source": [
    "### Question 1\n",
    "Find the total number of flights for each month"
   ]
  },
  {
   "cell_type": "code",
   "execution_count": 12,
   "id": "fca012d2",
   "metadata": {},
   "outputs": [
    {
     "data": {
      "text/plain": [
       "defined \u001b[32mfunction\u001b[39m \u001b[36mcountFlightsByMonth\u001b[39m"
      ]
     },
     "execution_count": 12,
     "metadata": {},
     "output_type": "execute_result"
    }
   ],
   "source": [
    "/**\n",
    " * Find the total number of flights for each month.\n",
    " *\n",
    " * @param flightRecordData Dataset of flight records\n",
    " * @return A dataset of pairs containing the month and the number of flights in that month\n",
    " */\n",
    "def countFlightsByMonth(flightRecordData: Dataset[FlightRecord]): Dataset[(Int, Long)] = {\n",
    "  flightRecordData\n",
    "    .groupBy(month($\"date\").as(\"Month\"))\n",
    "    .agg(count(\"*\").as(\"Number of Flights\"))\n",
    "    .orderBy(\"Month\")\n",
    "    .as[(Int, Long)]\n",
    "}"
   ]
  },
  {
   "cell_type": "code",
   "execution_count": 13,
   "id": "194719e5",
   "metadata": {},
   "outputs": [
    {
     "data": {
      "text/plain": [
       "\u001b[36mflightsByMonth\u001b[39m: \u001b[32mDataset\u001b[39m[(\u001b[32mInt\u001b[39m, \u001b[32mLong\u001b[39m)] = [Month: int, Number of Flights: bigint]"
      ]
     },
     "execution_count": 13,
     "metadata": {},
     "output_type": "execute_result"
    }
   ],
   "source": [
    "val flightsByMonth = countFlightsByMonth(flightRecordData)"
   ]
  },
  {
   "cell_type": "code",
   "execution_count": 14,
   "id": "ff4dde94",
   "metadata": {},
   "outputs": [
    {
     "data": {
      "text/html": [
       "<div>\n",
       "  <span style=\"float: left;\">show at cmd13.sc:1</span>\n",
       "</div>\n"
      ]
     },
     "metadata": {},
     "output_type": "display_data"
    },
    {
     "data": {
      "text/html": [
       "<div class=\"progress\">\n",
       "  <div class=\"progress-bar\" role=\"progressbar\" style=\"background-color: blue; width: 100%; word-wrap: normal; white-space: nowrap; text-align: center; color: white\" aria-valuenow=\"100\" aria-valuemin=\"0\" aria-valuemax=\"100\">\n",
       "    1 / 1\n",
       "  </div>\n",
       "  <div class=\"progress-bar\" role=\"progressbar\" style=\"background-color: red; width: 0%\" aria-valuenow=\"0\" aria-valuemin=\"0\" aria-valuemax=\"100\"></div>\n",
       "</div>\n"
      ]
     },
     "metadata": {},
     "output_type": "display_data"
    },
    {
     "data": {
      "text/html": [
       "<div>\n",
       "  <span style=\"float: left;\">show at cmd13.sc:1</span>\n",
       "</div>\n"
      ]
     },
     "metadata": {},
     "output_type": "display_data"
    },
    {
     "data": {
      "text/html": [
       "<div class=\"progress\">\n",
       "  <div class=\"progress-bar\" role=\"progressbar\" style=\"background-color: blue; width: 100%; word-wrap: normal; white-space: nowrap; text-align: center; color: white\" aria-valuenow=\"100\" aria-valuemin=\"0\" aria-valuemax=\"100\">\n",
       "    200 / 200\n",
       "  </div>\n",
       "  <div class=\"progress-bar\" role=\"progressbar\" style=\"background-color: red; width: 0%\" aria-valuenow=\"0\" aria-valuemin=\"0\" aria-valuemax=\"100\"></div>\n",
       "</div>\n"
      ]
     },
     "metadata": {},
     "output_type": "display_data"
    },
    {
     "name": "stdout",
     "output_type": "stream",
     "text": [
      "+-----+-----------------+\n",
      "|Month|Number of Flights|\n",
      "+-----+-----------------+\n",
      "|    1|             9700|\n",
      "|    2|             7300|\n",
      "|    3|             8200|\n",
      "|    4|             9200|\n",
      "|    5|             9200|\n",
      "|    6|             7100|\n",
      "|    7|             8700|\n",
      "|    8|             7600|\n",
      "|    9|             8500|\n",
      "|   10|             7600|\n",
      "|   11|             7500|\n",
      "|   12|             9400|\n",
      "+-----+-----------------+\n",
      "\n"
     ]
    }
   ],
   "source": [
    "flightsByMonth.show()"
   ]
  },
  {
   "cell_type": "code",
   "execution_count": 15,
   "id": "2d507b29",
   "metadata": {},
   "outputs": [
    {
     "name": "stdout",
     "output_type": "stream",
     "text": [
      "File already exists.\n"
     ]
    },
    {
     "data": {
      "text/plain": [
       "\u001b[36mquestion1\u001b[39m: \u001b[32mDataFrame\u001b[39m = [Month: int, Number of Flights: bigint]"
      ]
     },
     "execution_count": 15,
     "metadata": {},
     "output_type": "execute_result"
    }
   ],
   "source": [
    "val question1 = flightsByMonth.toDF()\n",
    "\n",
    "try {\n",
    "    question1.coalesce(1)\n",
    "      .write.format(\"com.databricks.spark.csv\")\n",
    "      .option(\"header\", \"true\")\n",
    "      .option(\"delimiter\", \",\")\n",
    "      .csv(\"question1.csv\")\n",
    "} catch {\n",
    "    case e: AnalysisException => println(\"File already exists.\")\n",
    "}"
   ]
  },
  {
   "cell_type": "markdown",
   "id": "c152c168",
   "metadata": {},
   "source": [
    "### Question 2\n",
    "Find the names of the 100 most frequent flyers."
   ]
  },
  {
   "cell_type": "code",
   "execution_count": 16,
   "id": "34302921",
   "metadata": {},
   "outputs": [
    {
     "data": {
      "text/plain": [
       "defined \u001b[32mfunction\u001b[39m \u001b[36mgetTop100FrequentFlyers\u001b[39m"
      ]
     },
     "execution_count": 16,
     "metadata": {},
     "output_type": "execute_result"
    }
   ],
   "source": [
    "/**\n",
    "  * Retrieves the 100 most frequent flyers from the given `flightRecordData` and `passengerData` datasets.\n",
    "  * @param flightRecordData Dataset of flight records.\n",
    "  * @param passengerData    Dataset of passengers..\n",
    "  * @return A dataset of tuples containing the top 100 frequent flyers.\n",
    "*/\n",
    "def getTop100FrequentFlyers(flightRecordData: Dataset[FlightRecord], passengerData: Dataset[Passenger]): Dataset[(Int, Long, String, String)] = {\n",
    "  val passengerFlights = flightRecordData\n",
    "    .groupBy(\"passengerId\")\n",
    "    .agg(count(\"*\").as(\"Number of Flights\"))\n",
    "\n",
    "  val passengerNames = passengerData\n",
    "    .join(passengerFlights, Seq(\"passengerId\"))\n",
    "    .select($\"passengerId\", $\"Number of Flights\", $\"firstName\", $\"lastName\")\n",
    "\n",
    "  passengerNames\n",
    "    .orderBy(desc(\"Number of Flights\"))\n",
    "    .limit(100)\n",
    "    .as[(Int, Long, String, String)]\n",
    "}"
   ]
  },
  {
   "cell_type": "code",
   "execution_count": 17,
   "id": "66a7ce1d",
   "metadata": {},
   "outputs": [
    {
     "data": {
      "text/plain": [
       "\u001b[36mtop100FrequentFlyers\u001b[39m: \u001b[32mDataset\u001b[39m[(\u001b[32mInt\u001b[39m, \u001b[32mLong\u001b[39m, \u001b[32mString\u001b[39m, \u001b[32mString\u001b[39m)] = [passengerId: int, Number of Flights: bigint ... 2 more fields]"
      ]
     },
     "execution_count": 17,
     "metadata": {},
     "output_type": "execute_result"
    }
   ],
   "source": [
    "val top100FrequentFlyers = getTop100FrequentFlyers(flightRecordData, passengerData)"
   ]
  },
  {
   "cell_type": "code",
   "execution_count": 18,
   "id": "148e5149",
   "metadata": {},
   "outputs": [
    {
     "data": {
      "text/html": [
       "<div>\n",
       "  <span style=\"float: left;\">run at ThreadPoolExecutor.java:1149</span>\n",
       "</div>\n"
      ]
     },
     "metadata": {},
     "output_type": "display_data"
    },
    {
     "data": {
      "text/html": [
       "<div class=\"progress\">\n",
       "  <div class=\"progress-bar\" role=\"progressbar\" style=\"background-color: blue; width: 100%; word-wrap: normal; white-space: nowrap; text-align: center; color: white\" aria-valuenow=\"100\" aria-valuemin=\"0\" aria-valuemax=\"100\">\n",
       "    1 / 1\n",
       "  </div>\n",
       "  <div class=\"progress-bar\" role=\"progressbar\" style=\"background-color: red; width: 0%\" aria-valuenow=\"0\" aria-valuemin=\"0\" aria-valuemax=\"100\"></div>\n",
       "</div>\n"
      ]
     },
     "metadata": {},
     "output_type": "display_data"
    },
    {
     "data": {
      "text/html": [
       "<div>\n",
       "  <span style=\"float: left;\">show at cmd17.sc:1</span>\n",
       "</div>\n"
      ]
     },
     "metadata": {},
     "output_type": "display_data"
    },
    {
     "data": {
      "text/html": [
       "<div class=\"progress\">\n",
       "  <div class=\"progress-bar\" role=\"progressbar\" style=\"background-color: blue; width: 100%; word-wrap: normal; white-space: nowrap; text-align: center; color: white\" aria-valuenow=\"100\" aria-valuemin=\"0\" aria-valuemax=\"100\">\n",
       "    1 / 1\n",
       "  </div>\n",
       "  <div class=\"progress-bar\" role=\"progressbar\" style=\"background-color: red; width: 0%\" aria-valuenow=\"0\" aria-valuemin=\"0\" aria-valuemax=\"100\"></div>\n",
       "</div>\n"
      ]
     },
     "metadata": {},
     "output_type": "display_data"
    },
    {
     "data": {
      "text/html": [
       "<div>\n",
       "  <span style=\"float: left;\">show at cmd17.sc:1</span>\n",
       "</div>\n"
      ]
     },
     "metadata": {},
     "output_type": "display_data"
    },
    {
     "data": {
      "text/html": [
       "<div class=\"progress\">\n",
       "  <div class=\"progress-bar\" role=\"progressbar\" style=\"background-color: blue; width: 100%; word-wrap: normal; white-space: nowrap; text-align: center; color: white\" aria-valuenow=\"100\" aria-valuemin=\"0\" aria-valuemax=\"100\">\n",
       "    200 / 200\n",
       "  </div>\n",
       "  <div class=\"progress-bar\" role=\"progressbar\" style=\"background-color: red; width: 0%\" aria-valuenow=\"0\" aria-valuemin=\"0\" aria-valuemax=\"100\"></div>\n",
       "</div>\n"
      ]
     },
     "metadata": {},
     "output_type": "display_data"
    },
    {
     "data": {
      "text/html": [
       "<div>\n",
       "  <span style=\"float: left;\">show at cmd17.sc:1</span>\n",
       "</div>\n"
      ]
     },
     "metadata": {},
     "output_type": "display_data"
    },
    {
     "data": {
      "text/html": [
       "<div class=\"progress\">\n",
       "  <div class=\"progress-bar\" role=\"progressbar\" style=\"background-color: blue; width: 100%; word-wrap: normal; white-space: nowrap; text-align: center; color: white\" aria-valuenow=\"100\" aria-valuemin=\"0\" aria-valuemax=\"100\">\n",
       "    1 / 1\n",
       "  </div>\n",
       "  <div class=\"progress-bar\" role=\"progressbar\" style=\"background-color: red; width: 0%\" aria-valuenow=\"0\" aria-valuemin=\"0\" aria-valuemax=\"100\"></div>\n",
       "</div>\n"
      ]
     },
     "metadata": {},
     "output_type": "display_data"
    },
    {
     "name": "stdout",
     "output_type": "stream",
     "text": [
      "+-----------+-----------------+---------+--------+\n",
      "|passengerId|Number of Flights|firstName|lastName|\n",
      "+-----------+-----------------+---------+--------+\n",
      "|       2068|               32|  Yolande|    Pete|\n",
      "|       1677|               27|Katherina|Vasiliki|\n",
      "|       4827|               27|    Jaime|   Renay|\n",
      "|       8961|               26|    Ginny|   Clara|\n",
      "|       3173|               26| Sunshine|   Scott|\n",
      "|       5867|               25|    Luise| Raymond|\n",
      "|       2857|               25|      Son| Ginette|\n",
      "|        760|               25|   Vernia|     Mui|\n",
      "|       8363|               25|   Branda|  Kimiko|\n",
      "|       5096|               25|   Blythe|    Hyon|\n",
      "|       6084|               25|     Cole|  Sharyl|\n",
      "|        288|               25|   Pamila|   Mavis|\n",
      "|        917|               25|   Anisha|  Alaine|\n",
      "|       1240|               24|Catherine|   Missy|\n",
      "|       5668|               24|   Gladis| Earlene|\n",
      "|       1343|               24|  Bennett|   Staci|\n",
      "|       2441|               24|    Kayla|   Rufus|\n",
      "|       3367|               24|Priscilla|   Corie|\n",
      "|       9441|               23| Annalisa|  Luanna|\n",
      "|        613|               23|   Palmer|  Yuonne|\n",
      "+-----------+-----------------+---------+--------+\n",
      "only showing top 20 rows\n",
      "\n"
     ]
    }
   ],
   "source": [
    "top100FrequentFlyers.show()"
   ]
  },
  {
   "cell_type": "markdown",
   "id": "2716c6e6",
   "metadata": {},
   "source": [
    "**I rewrite the function above to account for some performance modifications. First, we are able to send as a parameter the number of frequent flyers we want to retrieve, giving the functional programming a reusable approach. Second, I am using the approach of Broadcast Join, here, if the table to be joint is relatively small (in this case passenger being smaller than flightRecords) you can send small partitions to all nodes so that the operation can be performed locally on all nodes and to avoid shuffling the data across the network**"
   ]
  },
  {
   "cell_type": "code",
   "execution_count": 19,
   "id": "05d42f6b",
   "metadata": {},
   "outputs": [
    {
     "data": {
      "text/plain": [
       "defined \u001b[32mfunction\u001b[39m \u001b[36mgetFrequentFlyers\u001b[39m"
      ]
     },
     "execution_count": 19,
     "metadata": {},
     "output_type": "execute_result"
    }
   ],
   "source": [
    "/**\n",
    "  * Retrieves the `n` most frequent flyers from the given `flightRecordData` and `passengerData` datasets.\n",
    "  *\n",
    "  * @param flightRecordData Dataset of FlightRecord objects containing information about each flight.\n",
    "  * @param passengerData    Dataset of Passenger objects containing information about each passenger.\n",
    "  * @param n                Number of frequent flyers to retrieve.\n",
    "  * @return A dataset of tuples containing the top 'n' frequent flyers.\n",
    "  */\n",
    "def getFrequentFlyers(flightRecordData: Dataset[FlightRecord], passengerData: Dataset[Passenger], n: Int): Dataset[(Int, Long, String, String)] = {\n",
    "  val flightsByPassenger = flightRecordData\n",
    "    .join(broadcast(passengerData), Seq(\"passengerId\"))\n",
    "    .groupBy(\"passengerId\")\n",
    "    .agg(\n",
    "      first(\"firstName\").as(\"firstName\"), \n",
    "      first(\"lastName\").as(\"lastName\"), \n",
    "      count(\"*\").as(\"Number of Flights\")\n",
    "    )\n",
    "    .orderBy(desc(\"Number of Flights\"))\n",
    "    .limit(n)\n",
    "    .select(\"passengerId\", \"Number of Flights\", \"firstName\", \"lastName\")\n",
    "    .as[(Int, Long, String, String)]\n",
    "\n",
    "  flightsByPassenger\n",
    "}"
   ]
  },
  {
   "cell_type": "code",
   "execution_count": 20,
   "id": "bdc98ae3",
   "metadata": {},
   "outputs": [
    {
     "data": {
      "text/plain": [
       "\u001b[36mtopFrequentFlyers\u001b[39m: \u001b[32mDataset\u001b[39m[(\u001b[32mInt\u001b[39m, \u001b[32mLong\u001b[39m, \u001b[32mString\u001b[39m, \u001b[32mString\u001b[39m)] = [passengerId: int, Number of Flights: bigint ... 2 more fields]"
      ]
     },
     "execution_count": 20,
     "metadata": {},
     "output_type": "execute_result"
    }
   ],
   "source": [
    "val topFrequentFlyers = getFrequentFlyers(flightRecordData, passengerData, 100)"
   ]
  },
  {
   "cell_type": "code",
   "execution_count": 21,
   "id": "b3596365",
   "metadata": {},
   "outputs": [
    {
     "data": {
      "text/html": [
       "<div>\n",
       "  <span style=\"float: left;\">run at ThreadPoolExecutor.java:1149</span>\n",
       "</div>\n"
      ]
     },
     "metadata": {},
     "output_type": "display_data"
    },
    {
     "data": {
      "text/html": [
       "<div class=\"progress\">\n",
       "  <div class=\"progress-bar\" role=\"progressbar\" style=\"background-color: blue; width: 100%; word-wrap: normal; white-space: nowrap; text-align: center; color: white\" aria-valuenow=\"100\" aria-valuemin=\"0\" aria-valuemax=\"100\">\n",
       "    1 / 1\n",
       "  </div>\n",
       "  <div class=\"progress-bar\" role=\"progressbar\" style=\"background-color: red; width: 0%\" aria-valuenow=\"0\" aria-valuemin=\"0\" aria-valuemax=\"100\"></div>\n",
       "</div>\n"
      ]
     },
     "metadata": {},
     "output_type": "display_data"
    },
    {
     "data": {
      "text/html": [
       "<div>\n",
       "  <span style=\"float: left;\">show at cmd20.sc:1</span>\n",
       "</div>\n"
      ]
     },
     "metadata": {},
     "output_type": "display_data"
    },
    {
     "data": {
      "text/html": [
       "<div class=\"progress\">\n",
       "  <div class=\"progress-bar\" role=\"progressbar\" style=\"background-color: blue; width: 100%; word-wrap: normal; white-space: nowrap; text-align: center; color: white\" aria-valuenow=\"100\" aria-valuemin=\"0\" aria-valuemax=\"100\">\n",
       "    1 / 1\n",
       "  </div>\n",
       "  <div class=\"progress-bar\" role=\"progressbar\" style=\"background-color: red; width: 0%\" aria-valuenow=\"0\" aria-valuemin=\"0\" aria-valuemax=\"100\"></div>\n",
       "</div>\n"
      ]
     },
     "metadata": {},
     "output_type": "display_data"
    },
    {
     "data": {
      "text/html": [
       "<div>\n",
       "  <span style=\"float: left;\">show at cmd20.sc:1</span>\n",
       "</div>\n"
      ]
     },
     "metadata": {},
     "output_type": "display_data"
    },
    {
     "data": {
      "text/html": [
       "<div class=\"progress\">\n",
       "  <div class=\"progress-bar\" role=\"progressbar\" style=\"background-color: blue; width: 100%; word-wrap: normal; white-space: nowrap; text-align: center; color: white\" aria-valuenow=\"100\" aria-valuemin=\"0\" aria-valuemax=\"100\">\n",
       "    200 / 200\n",
       "  </div>\n",
       "  <div class=\"progress-bar\" role=\"progressbar\" style=\"background-color: red; width: 0%\" aria-valuenow=\"0\" aria-valuemin=\"0\" aria-valuemax=\"100\"></div>\n",
       "</div>\n"
      ]
     },
     "metadata": {},
     "output_type": "display_data"
    },
    {
     "data": {
      "text/html": [
       "<div>\n",
       "  <span style=\"float: left;\">show at cmd20.sc:1</span>\n",
       "</div>\n"
      ]
     },
     "metadata": {},
     "output_type": "display_data"
    },
    {
     "data": {
      "text/html": [
       "<div class=\"progress\">\n",
       "  <div class=\"progress-bar\" role=\"progressbar\" style=\"background-color: blue; width: 100%; word-wrap: normal; white-space: nowrap; text-align: center; color: white\" aria-valuenow=\"100\" aria-valuemin=\"0\" aria-valuemax=\"100\">\n",
       "    1 / 1\n",
       "  </div>\n",
       "  <div class=\"progress-bar\" role=\"progressbar\" style=\"background-color: red; width: 0%\" aria-valuenow=\"0\" aria-valuemin=\"0\" aria-valuemax=\"100\"></div>\n",
       "</div>\n"
      ]
     },
     "metadata": {},
     "output_type": "display_data"
    },
    {
     "name": "stdout",
     "output_type": "stream",
     "text": [
      "+-----------+-----------------+---------+--------+\n",
      "|passengerId|Number of Flights|firstName|lastName|\n",
      "+-----------+-----------------+---------+--------+\n",
      "|       2068|               32|  Yolande|    Pete|\n",
      "|       1677|               27|Katherina|Vasiliki|\n",
      "|       4827|               27|    Jaime|   Renay|\n",
      "|       8961|               26|    Ginny|   Clara|\n",
      "|       3173|               26| Sunshine|   Scott|\n",
      "|       5867|               25|    Luise| Raymond|\n",
      "|       2857|               25|      Son| Ginette|\n",
      "|        760|               25|   Vernia|     Mui|\n",
      "|       8363|               25|   Branda|  Kimiko|\n",
      "|       5096|               25|   Blythe|    Hyon|\n",
      "|       6084|               25|     Cole|  Sharyl|\n",
      "|        288|               25|   Pamila|   Mavis|\n",
      "|        917|               25|   Anisha|  Alaine|\n",
      "|       1240|               24|Catherine|   Missy|\n",
      "|       5668|               24|   Gladis| Earlene|\n",
      "|       1343|               24|  Bennett|   Staci|\n",
      "|       2441|               24|    Kayla|   Rufus|\n",
      "|       3367|               24|Priscilla|   Corie|\n",
      "|       9441|               23| Annalisa|  Luanna|\n",
      "|        613|               23|   Palmer|  Yuonne|\n",
      "+-----------+-----------------+---------+--------+\n",
      "only showing top 20 rows\n",
      "\n"
     ]
    }
   ],
   "source": [
    "topFrequentFlyers.show()"
   ]
  },
  {
   "cell_type": "code",
   "execution_count": 22,
   "id": "ba5275b9",
   "metadata": {},
   "outputs": [
    {
     "name": "stdout",
     "output_type": "stream",
     "text": [
      "File already exists.\n"
     ]
    },
    {
     "data": {
      "text/plain": [
       "\u001b[36mquestion2\u001b[39m: \u001b[32mDataFrame\u001b[39m = [passengerId: int, Number of Flights: bigint ... 2 more fields]"
      ]
     },
     "execution_count": 22,
     "metadata": {},
     "output_type": "execute_result"
    }
   ],
   "source": [
    "val question2 = top100FrequentFlyers.toDF()\n",
    "\n",
    "try {\n",
    "    question2.coalesce(1)\n",
    "      .write.format(\"com.databricks.spark.csv\")\n",
    "      .option(\"header\", \"true\")\n",
    "      .option(\"delimiter\", \",\")\n",
    "      .csv(\"question2.csv\")\n",
    "} catch {\n",
    "    case e: AnalysisException => println(\"File already exists.\")\n",
    "}"
   ]
  },
  {
   "cell_type": "markdown",
   "id": "77e1314d",
   "metadata": {},
   "source": [
    "### Question 3\n",
    "Find the greatest number of countries a passenger has been in without being in the UK."
   ]
  },
  {
   "cell_type": "markdown",
   "id": "cb06047b",
   "metadata": {},
   "source": [
    "**To encourage reusability of functions, again, we include the ability to send as parameter the country to find the longest streaks. Also, some performance tunning are included in the following function. First, the use of repartition after each transformation which avoids the uneven distribution of data. Also, the use of Window to sort the data and avoid the data to be shuffled unnecessarily**"
   ]
  },
  {
   "cell_type": "code",
   "execution_count": 23,
   "id": "91e2ec25",
   "metadata": {},
   "outputs": [
    {
     "data": {
      "text/html": [
       "<div>\n",
       "  <span style=\"float: left;\">run at ThreadPoolExecutor.java:1149</span>\n",
       "</div>\n"
      ]
     },
     "metadata": {},
     "output_type": "display_data"
    },
    {
     "data": {
      "text/html": [
       "<div class=\"progress\">\n",
       "  <div class=\"progress-bar\" role=\"progressbar\" style=\"background-color: blue; width: 100%; word-wrap: normal; white-space: nowrap; text-align: center; color: white\" aria-valuenow=\"100\" aria-valuemin=\"0\" aria-valuemax=\"100\">\n",
       "    1 / 1\n",
       "  </div>\n",
       "  <div class=\"progress-bar\" role=\"progressbar\" style=\"background-color: red; width: 0%\" aria-valuenow=\"0\" aria-valuemin=\"0\" aria-valuemax=\"100\"></div>\n",
       "</div>\n"
      ]
     },
     "metadata": {},
     "output_type": "display_data"
    },
    {
     "data": {
      "text/plain": [
       "defined \u001b[32mfunction\u001b[39m \u001b[36mgreatestStreakWithoutCountry\u001b[39m"
      ]
     },
     "execution_count": 23,
     "metadata": {},
     "output_type": "execute_result"
    }
   ],
   "source": [
    "/**\n",
    " * Returns the greatest streak of flights for each passenger from having landed in a country and without landing again.\n",
    " *\n",
    " * @param passengerFlightsData Dataset containing the flight records of passengers.\n",
    " * @param country              Country which passengers cannot land in to be counted in the streak.\n",
    " * @return a dataset with the passenger ID and their longest streak without landing on the given country.\n",
    " */\n",
    "def greatestStreakWithoutCountry(passengerFlightsData: Dataset[FlightRecord], country: String): Dataset[(Int, BigInt)] = {\n",
    "\n",
    "  val countryCounts = passengerFlightsData\n",
    "    .select(\"passengerId\", \"from\", \"to\", \"date\")\n",
    "    .filter(col(\"to\") =!= country)  // filters out flights to the given country\n",
    "    .withColumn(\"previousCountry\", lag(\"to\", 1).over(Window.partitionBy(\"passengerId\").orderBy(\"date\")))\n",
    "    .filter(col(\"previousCountry\") =!= country)\n",
    "    .select(\"passengerId\", \"to\", \"previousCountry\")  // filters out flights with previous destination as the given country\n",
    "    .distinct()\n",
    "    .groupBy(\"passengerId\")\n",
    "    .agg(countDistinct(\"to\").as(\"countryCount\"))  // counts the number of unique destinations for each passenger\n",
    "    .filter(\"countryCount > 0\")\n",
    "    .repartition(col(\"passengerId\"))\n",
    "\n",
    "  val selectedCountryCounts = passengerFlightsData\n",
    "    .filter(col(\"to\") === country)  // filter flights that arrive at the specified country\n",
    "    .select(\"passengerId\", \"from\", \"to\", \"date\")\n",
    "    .withColumn(\"previousCountry\", lag(\"to\", 1).over(Window.partitionBy(\"passengerId\").orderBy(\"date\")))\n",
    "    .filter(col(\"previousCountry\") === country)  // filter flights that previously departed from the specified country\n",
    "    .select(\"passengerId\", \"previousCountry\")\n",
    "    .distinct()\n",
    "    .groupBy(\"passengerId\")\n",
    "    .agg(countDistinct(\"previousCountry\").as(\"selectedCountryCounts\"))  // count the number of unique previous countries\n",
    "    .repartition(col(\"passengerId\"))\n",
    "\n",
    "  countryCounts\n",
    "    .join(selectedCountryCounts, Seq(\"passengerId\"), \"left\")\n",
    "    .withColumn(\"Longest Run\", when(col(\"selectedCountryCounts\").isNull, col(\"countryCount\")).otherwise(col(\"countryCount\") - col(\"selectedCountryCounts\")))\n",
    "    .select(\"passengerId\", \"Longest Run\")\n",
    "    .orderBy(col(\"Longest Run\").desc)\n",
    "    .as[(Int, BigInt)]\n",
    "}"
   ]
  },
  {
   "cell_type": "code",
   "execution_count": 24,
   "id": "4644a666",
   "metadata": {},
   "outputs": [
    {
     "data": {
      "text/plain": [
       "\u001b[36mlongestStreak\u001b[39m: \u001b[32mDataset\u001b[39m[(\u001b[32mInt\u001b[39m, \u001b[32mBigInt\u001b[39m)] = [passengerId: int, Longest Run: bigint]"
      ]
     },
     "execution_count": 24,
     "metadata": {},
     "output_type": "execute_result"
    }
   ],
   "source": [
    "val longestStreak = greatestStreakWithoutCountry(flightRecordData, \"uk\")"
   ]
  },
  {
   "cell_type": "code",
   "execution_count": 25,
   "id": "5517c64e",
   "metadata": {},
   "outputs": [
    {
     "data": {
      "text/html": [
       "<div>\n",
       "  <span style=\"float: left;\">run at ThreadPoolExecutor.java:1149</span>\n",
       "</div>\n"
      ]
     },
     "metadata": {},
     "output_type": "display_data"
    },
    {
     "data": {
      "text/html": [
       "<div class=\"progress\">\n",
       "  <div class=\"progress-bar\" role=\"progressbar\" style=\"background-color: blue; width: 100%; word-wrap: normal; white-space: nowrap; text-align: center; color: white\" aria-valuenow=\"100\" aria-valuemin=\"0\" aria-valuemax=\"100\">\n",
       "    1 / 1\n",
       "  </div>\n",
       "  <div class=\"progress-bar\" role=\"progressbar\" style=\"background-color: red; width: 0%\" aria-valuenow=\"0\" aria-valuemin=\"0\" aria-valuemax=\"100\"></div>\n",
       "</div>\n"
      ]
     },
     "metadata": {},
     "output_type": "display_data"
    },
    {
     "data": {
      "text/html": [
       "<div>\n",
       "  <span style=\"float: left;\">run at ThreadPoolExecutor.java:1149</span>\n",
       "</div>\n"
      ]
     },
     "metadata": {},
     "output_type": "display_data"
    },
    {
     "data": {
      "text/html": [
       "<div class=\"progress\">\n",
       "  <div class=\"progress-bar\" role=\"progressbar\" style=\"background-color: blue; width: 100%; word-wrap: normal; white-space: nowrap; text-align: center; color: white\" aria-valuenow=\"100\" aria-valuemin=\"0\" aria-valuemax=\"100\">\n",
       "    200 / 200\n",
       "  </div>\n",
       "  <div class=\"progress-bar\" role=\"progressbar\" style=\"background-color: red; width: 0%\" aria-valuenow=\"0\" aria-valuemin=\"0\" aria-valuemax=\"100\"></div>\n",
       "</div>\n"
      ]
     },
     "metadata": {},
     "output_type": "display_data"
    },
    {
     "data": {
      "text/html": [
       "<div>\n",
       "  <span style=\"float: left;\">show at cmd24.sc:1</span>\n",
       "</div>\n"
      ]
     },
     "metadata": {},
     "output_type": "display_data"
    },
    {
     "data": {
      "text/html": [
       "<div class=\"progress\">\n",
       "  <div class=\"progress-bar\" role=\"progressbar\" style=\"background-color: blue; width: 100%; word-wrap: normal; white-space: nowrap; text-align: center; color: white\" aria-valuenow=\"100\" aria-valuemin=\"0\" aria-valuemax=\"100\">\n",
       "    1 / 1\n",
       "  </div>\n",
       "  <div class=\"progress-bar\" role=\"progressbar\" style=\"background-color: red; width: 0%\" aria-valuenow=\"0\" aria-valuemin=\"0\" aria-valuemax=\"100\"></div>\n",
       "</div>\n"
      ]
     },
     "metadata": {},
     "output_type": "display_data"
    },
    {
     "data": {
      "text/html": [
       "<div>\n",
       "  <span style=\"float: left;\">show at cmd24.sc:1</span>\n",
       "</div>\n"
      ]
     },
     "metadata": {},
     "output_type": "display_data"
    },
    {
     "data": {
      "text/html": [
       "<div class=\"progress\">\n",
       "  <div class=\"progress-bar\" role=\"progressbar\" style=\"background-color: blue; width: 100%; word-wrap: normal; white-space: nowrap; text-align: center; color: white\" aria-valuenow=\"100\" aria-valuemin=\"0\" aria-valuemax=\"100\">\n",
       "    200 / 200\n",
       "  </div>\n",
       "  <div class=\"progress-bar\" role=\"progressbar\" style=\"background-color: red; width: 0%\" aria-valuenow=\"0\" aria-valuemin=\"0\" aria-valuemax=\"100\"></div>\n",
       "</div>\n"
      ]
     },
     "metadata": {},
     "output_type": "display_data"
    },
    {
     "name": "stdout",
     "output_type": "stream",
     "text": [
      "+-----------+-----------+\n",
      "|passengerId|Longest Run|\n",
      "+-----------+-----------+\n",
      "|       9441|         18|\n",
      "|        798|         17|\n",
      "|        288|         17|\n",
      "|       2378|         17|\n",
      "|       3608|         17|\n",
      "|       2857|         17|\n",
      "|        721|         16|\n",
      "|       8353|         16|\n",
      "|       2867|         16|\n",
      "|       1677|         16|\n",
      "|       3173|         16|\n",
      "|       1337|         16|\n",
      "|       8411|         16|\n",
      "|       6084|         16|\n",
      "|       2068|         16|\n",
      "|       5668|         16|\n",
      "|       2437|         16|\n",
      "|       1651|         16|\n",
      "|         92|         16|\n",
      "|       3367|         16|\n",
      "+-----------+-----------+\n",
      "only showing top 20 rows\n",
      "\n"
     ]
    }
   ],
   "source": [
    "longestStreak.show()"
   ]
  },
  {
   "cell_type": "code",
   "execution_count": 26,
   "id": "2b79cad3",
   "metadata": {},
   "outputs": [
    {
     "name": "stdout",
     "output_type": "stream",
     "text": [
      "File already exists.\n"
     ]
    },
    {
     "data": {
      "text/plain": [
       "\u001b[36mquestion3\u001b[39m: \u001b[32mDataFrame\u001b[39m = [passengerId: int, Longest Run: bigint]"
      ]
     },
     "execution_count": 26,
     "metadata": {},
     "output_type": "execute_result"
    }
   ],
   "source": [
    "val question3 = longestStreak.toDF()\n",
    "\n",
    "try {\n",
    "    question3.coalesce(1)\n",
    "      .write.format(\"com.databricks.spark.csv\")\n",
    "      .option(\"header\", \"true\")\n",
    "      .option(\"delimiter\", \",\")\n",
    "      .csv(\"question3.csv\")\n",
    "} catch {\n",
    "    case e: AnalysisException => println(\"File already exists.\")\n",
    "}"
   ]
  },
  {
   "cell_type": "markdown",
   "id": "0a7b1dc4",
   "metadata": {},
   "source": [
    "### Question 4\n",
    "Find the passengers who have been on more than 3 flights together."
   ]
  },
  {
   "cell_type": "code",
   "execution_count": 27,
   "id": "df52a7d0",
   "metadata": {},
   "outputs": [
    {
     "data": {
      "text/html": [
       "<div>\n",
       "  <span style=\"float: left;\">run at ThreadPoolExecutor.java:1149</span>\n",
       "</div>\n"
      ]
     },
     "metadata": {},
     "output_type": "display_data"
    },
    {
     "data": {
      "text/html": [
       "<div class=\"progress\">\n",
       "  <div class=\"progress-bar\" role=\"progressbar\" style=\"background-color: blue; width: 100%; word-wrap: normal; white-space: nowrap; text-align: center; color: white\" aria-valuenow=\"100\" aria-valuemin=\"0\" aria-valuemax=\"100\">\n",
       "    1 / 1\n",
       "  </div>\n",
       "  <div class=\"progress-bar\" role=\"progressbar\" style=\"background-color: red; width: 0%\" aria-valuenow=\"0\" aria-valuemin=\"0\" aria-valuemax=\"100\"></div>\n",
       "</div>\n"
      ]
     },
     "metadata": {},
     "output_type": "display_data"
    },
    {
     "data": {
      "text/html": [
       "<div>\n",
       "  <span style=\"float: left;\">run at ThreadPoolExecutor.java:1149</span>\n",
       "</div>\n"
      ]
     },
     "metadata": {},
     "output_type": "display_data"
    },
    {
     "data": {
      "text/html": [
       "<div class=\"progress\">\n",
       "  <div class=\"progress-bar\" role=\"progressbar\" style=\"background-color: blue; width: 100%; word-wrap: normal; white-space: nowrap; text-align: center; color: white\" aria-valuenow=\"100\" aria-valuemin=\"0\" aria-valuemax=\"100\">\n",
       "    200 / 200\n",
       "  </div>\n",
       "  <div class=\"progress-bar\" role=\"progressbar\" style=\"background-color: red; width: 0%\" aria-valuenow=\"0\" aria-valuemin=\"0\" aria-valuemax=\"100\"></div>\n",
       "</div>\n"
      ]
     },
     "metadata": {},
     "output_type": "display_data"
    },
    {
     "data": {
      "text/html": [
       "<div>\n",
       "  <span style=\"float: left;\">run at ThreadPoolExecutor.java:1149</span>\n",
       "</div>\n"
      ]
     },
     "metadata": {},
     "output_type": "display_data"
    },
    {
     "data": {
      "text/html": [
       "<div class=\"progress\">\n",
       "  <div class=\"progress-bar\" role=\"progressbar\" style=\"background-color: blue; width: 100%; word-wrap: normal; white-space: nowrap; text-align: center; color: white\" aria-valuenow=\"100\" aria-valuemin=\"0\" aria-valuemax=\"100\">\n",
       "    1 / 1\n",
       "  </div>\n",
       "  <div class=\"progress-bar\" role=\"progressbar\" style=\"background-color: red; width: 0%\" aria-valuenow=\"0\" aria-valuemin=\"0\" aria-valuemax=\"100\"></div>\n",
       "</div>\n"
      ]
     },
     "metadata": {},
     "output_type": "display_data"
    },
    {
     "data": {
      "text/html": [
       "<div>\n",
       "  <span style=\"float: left;\">show at cmd26.sc:16</span>\n",
       "</div>\n"
      ]
     },
     "metadata": {},
     "output_type": "display_data"
    },
    {
     "data": {
      "text/html": [
       "<div class=\"progress\">\n",
       "  <div class=\"progress-bar\" role=\"progressbar\" style=\"background-color: blue; width: 100%; word-wrap: normal; white-space: nowrap; text-align: center; color: white\" aria-valuenow=\"100\" aria-valuemin=\"0\" aria-valuemax=\"100\">\n",
       "    1 / 1\n",
       "  </div>\n",
       "  <div class=\"progress-bar\" role=\"progressbar\" style=\"background-color: red; width: 0%\" aria-valuenow=\"0\" aria-valuemin=\"0\" aria-valuemax=\"100\"></div>\n",
       "</div>\n"
      ]
     },
     "metadata": {},
     "output_type": "display_data"
    },
    {
     "data": {
      "text/html": [
       "<div>\n",
       "  <span style=\"float: left;\">show at cmd26.sc:16</span>\n",
       "</div>\n"
      ]
     },
     "metadata": {},
     "output_type": "display_data"
    },
    {
     "data": {
      "text/html": [
       "<div class=\"progress\">\n",
       "  <div class=\"progress-bar\" role=\"progressbar\" style=\"background-color: blue; width: 100%; word-wrap: normal; white-space: nowrap; text-align: center; color: white\" aria-valuenow=\"100\" aria-valuemin=\"0\" aria-valuemax=\"100\">\n",
       "    200 / 200\n",
       "  </div>\n",
       "  <div class=\"progress-bar\" role=\"progressbar\" style=\"background-color: red; width: 0%\" aria-valuenow=\"0\" aria-valuemin=\"0\" aria-valuemax=\"100\"></div>\n",
       "</div>\n"
      ]
     },
     "metadata": {},
     "output_type": "display_data"
    },
    {
     "name": "stdout",
     "output_type": "stream",
     "text": [
      "+--------------+--------------+--------------------------+\n",
      "|Passenger 1 ID|Passenger 2 ID|Number of Flights Together|\n",
      "+--------------+--------------+--------------------------+\n",
      "|           701|           760|                        15|\n",
      "|          3503|          3590|                        14|\n",
      "|          2717|          2759|                        14|\n",
      "|          2939|          5490|                        13|\n",
      "|          4395|          4399|                        12|\n",
      "|          1208|          3093|                        12|\n",
      "|           382|           392|                        12|\n",
      "|          2759|          4316|                        12|\n",
      "|          4316|          4373|                        12|\n",
      "|          1337|          2867|                        12|\n",
      "|          2926|          3590|                        12|\n",
      "|          7877|          9252|                        12|\n",
      "|           366|           374|                        12|\n",
      "|          2550|          4441|                        12|\n",
      "|           701|           763|                        12|\n",
      "|          3278|          5423|                        12|\n",
      "|          3021|          9522|                        12|\n",
      "|           975|          1371|                        12|\n",
      "|          1337|          1484|                        12|\n",
      "|           760|           763|                        12|\n",
      "+--------------+--------------+--------------------------+\n",
      "only showing top 20 rows\n",
      "\n"
     ]
    },
    {
     "data": {
      "text/plain": [
       "\u001b[36msharedFlights\u001b[39m: \u001b[32mDataset\u001b[39m[\u001b[32mRow\u001b[39m] = [passengerId: int, passengerId: int ... 1 more field]\n",
       "\u001b[36mresult\u001b[39m: \u001b[32mDataset\u001b[39m[(\u001b[32mInt\u001b[39m, \u001b[32mInt\u001b[39m, \u001b[32mLong\u001b[39m)] = [Passenger 1 ID: int, Passenger 2 ID: int ... 1 more field]"
      ]
     },
     "execution_count": 27,
     "metadata": {},
     "output_type": "execute_result"
    }
   ],
   "source": [
    "// Self-join the DataFrame on flightId and group by passengerId pairs to count the number of flights they have taken together\n",
    "val sharedFlights = flightRecordData.as(\"passenger1Data\")\n",
    "  .join(flightRecordData.as(\"passenger2Data\"), \"flightId\")\n",
    "  .where($\"passenger1Data.passengerId\" < $\"passenger2Data.passengerId\")\n",
    "  .groupBy($\"passenger1Data.passengerId\", $\"passenger2Data.passengerId\")\n",
    "  .agg(count(\"*\").as(\"Number of Flights Together\"))\n",
    "  .where($\"Number of Flights Together\" > 3)\n",
    "  .orderBy($\"Number of Flights Together\".desc)\n",
    "\n",
    "// Return the result as a dataset\n",
    "val result = sharedFlights.select(\n",
    "    $\"passenger1Data.passengerId\".as(\"Passenger 1 ID\"), \n",
    "    $\"passenger2Data.passengerId\".as(\"Passenger 2 ID\"), \n",
    "    $\"Number of Flights Together\"\n",
    "  ).as[(Int, Int, Long)]\n",
    "\n",
    "result.show()"
   ]
  },
  {
   "cell_type": "code",
   "execution_count": 28,
   "id": "cf7127c6",
   "metadata": {},
   "outputs": [
    {
     "name": "stdout",
     "output_type": "stream",
     "text": [
      "File already exists.\n"
     ]
    },
    {
     "data": {
      "text/plain": [
       "\u001b[36mquestion4\u001b[39m: \u001b[32mDataFrame\u001b[39m = [Passenger 1 ID: int, Passenger 2 ID: int ... 1 more field]"
      ]
     },
     "execution_count": 28,
     "metadata": {},
     "output_type": "execute_result"
    }
   ],
   "source": [
    "val question4 = result.toDF()\n",
    "\n",
    "try {\n",
    "    question4.coalesce(1)\n",
    "      .write.format(\"com.databricks.spark.csv\")\n",
    "      .option(\"header\", \"true\")\n",
    "      .option(\"delimiter\", \",\")\n",
    "      .csv(\"question4.csv\")\n",
    "} catch {\n",
    "    case e: AnalysisException => println(\"File already exists.\")\n",
    "}"
   ]
  },
  {
   "cell_type": "markdown",
   "id": "268df7ec",
   "metadata": {},
   "source": [
    "### For Extra Marks\n",
    "Find the passengers who have been on more than N flights together within the range (from, to)."
   ]
  },
  {
   "cell_type": "code",
   "execution_count": 29,
   "id": "3171c410",
   "metadata": {},
   "outputs": [
    {
     "data": {
      "text/plain": [
       "defined \u001b[32mfunction\u001b[39m \u001b[36msearchSharedFlights\u001b[39m"
      ]
     },
     "execution_count": 29,
     "metadata": {},
     "output_type": "execute_result"
    }
   ],
   "source": [
    "/**\n",
    "  * Pairs the flightRecordData dataset by passengers and returns the ones that have flown\n",
    "  * together at least N times within the date range specified.\n",
    "  *\n",
    "  * @param atLeastNTimes Minimum number of times the passengers must have flown together\n",
    "  * @param from          Starting date of the date range\n",
    "  * @param to            Ending date of the date range\n",
    "  * @return Dataset with the following columns:\n",
    "  *         Passenger 1 ID, Passenger 2 ID, Number of flights together, From, To\n",
    "  */\n",
    "def searchSharedFlights(atLeastNTimes: Int, from: Date, to: Date) = {\n",
    "  // Filter the dataset based on the date range\n",
    "  val filteredFlightsByDate = flightRecordData.filter($\"date\" >= from && $\"date\" <= to)\n",
    "\n",
    "  // Self-join the dataset on flightId and group by passengerId pairs to count the number of flights they have taken together\n",
    "  val sharedFlights = filteredFlightsByDate.as(\"passenger1Data\")\n",
    "    .join(filteredFlightsByDate.as(\"passenger2Data\"), \"flightId\")\n",
    "    .where($\"passenger1Data.passengerId\" < $\"passenger2Data.passengerId\")\n",
    "    .groupBy($\"passenger1Data.passengerId\", $\"passenger2Data.passengerId\")\n",
    "    .agg(count(\"*\").as(\"Number of Flights Together\"))\n",
    "    .where($\"Number of Flights Together\" > atLeastNTimes)\n",
    "    .orderBy($\"Number of Flights Together\".desc)\n",
    "\n",
    "  val result = sharedFlights.select(\n",
    "      $\"passenger1Data.passengerId\".as(\"Passenger 1 ID\"), \n",
    "      $\"passenger2Data.passengerId\".as(\"Passenger 2 ID\"),\n",
    "      $\"Number of Flights Together\", lit(from).as(\"From\"), lit(to).as(\"To\"))\n",
    "    .as[(Int, Int, Long, Date, Date)]\n",
    "  result\n",
    "}"
   ]
  },
  {
   "cell_type": "code",
   "execution_count": 30,
   "id": "016e1f5b",
   "metadata": {},
   "outputs": [
    {
     "data": {
      "text/plain": [
       "\u001b[36mfromDate\u001b[39m: \u001b[32mDate\u001b[39m = 2017-01-01\n",
       "\u001b[36mtoDate\u001b[39m: \u001b[32mDate\u001b[39m = 2017-12-31\n",
       "\u001b[36mflightsTogether\u001b[39m: \u001b[32mDataset\u001b[39m[(\u001b[32mInt\u001b[39m, \u001b[32mInt\u001b[39m, \u001b[32mLong\u001b[39m, \u001b[32mDate\u001b[39m, \u001b[32mDate\u001b[39m)] = [Passenger 1 ID: int, Passenger 2 ID: int ... 3 more fields]"
      ]
     },
     "execution_count": 30,
     "metadata": {},
     "output_type": "execute_result"
    }
   ],
   "source": [
    "val fromDate = Date.valueOf(\"2017-01-01\")\n",
    "val toDate = Date.valueOf(\"2017-12-31\")\n",
    "\n",
    "val flightsTogether = searchSharedFlights(10, fromDate, toDate)"
   ]
  },
  {
   "cell_type": "code",
   "execution_count": 31,
   "id": "77eb2fb7",
   "metadata": {},
   "outputs": [
    {
     "data": {
      "text/html": [
       "<div>\n",
       "  <span style=\"float: left;\">run at ThreadPoolExecutor.java:1149</span>\n",
       "</div>\n"
      ]
     },
     "metadata": {},
     "output_type": "display_data"
    },
    {
     "data": {
      "text/html": [
       "<div class=\"progress\">\n",
       "  <div class=\"progress-bar\" role=\"progressbar\" style=\"background-color: blue; width: 100%; word-wrap: normal; white-space: nowrap; text-align: center; color: white\" aria-valuenow=\"100\" aria-valuemin=\"0\" aria-valuemax=\"100\">\n",
       "    1 / 1\n",
       "  </div>\n",
       "  <div class=\"progress-bar\" role=\"progressbar\" style=\"background-color: red; width: 0%\" aria-valuenow=\"0\" aria-valuemin=\"0\" aria-valuemax=\"100\"></div>\n",
       "</div>\n"
      ]
     },
     "metadata": {},
     "output_type": "display_data"
    },
    {
     "data": {
      "text/html": [
       "<div>\n",
       "  <span style=\"float: left;\">show at cmd30.sc:1</span>\n",
       "</div>\n"
      ]
     },
     "metadata": {},
     "output_type": "display_data"
    },
    {
     "data": {
      "text/html": [
       "<div class=\"progress\">\n",
       "  <div class=\"progress-bar\" role=\"progressbar\" style=\"background-color: blue; width: 100%; word-wrap: normal; white-space: nowrap; text-align: center; color: white\" aria-valuenow=\"100\" aria-valuemin=\"0\" aria-valuemax=\"100\">\n",
       "    1 / 1\n",
       "  </div>\n",
       "  <div class=\"progress-bar\" role=\"progressbar\" style=\"background-color: red; width: 0%\" aria-valuenow=\"0\" aria-valuemin=\"0\" aria-valuemax=\"100\"></div>\n",
       "</div>\n"
      ]
     },
     "metadata": {},
     "output_type": "display_data"
    },
    {
     "data": {
      "text/html": [
       "<div>\n",
       "  <span style=\"float: left;\">show at cmd30.sc:1</span>\n",
       "</div>\n"
      ]
     },
     "metadata": {},
     "output_type": "display_data"
    },
    {
     "data": {
      "text/html": [
       "<div class=\"progress\">\n",
       "  <div class=\"progress-bar\" role=\"progressbar\" style=\"background-color: blue; width: 100%; word-wrap: normal; white-space: nowrap; text-align: center; color: white\" aria-valuenow=\"100\" aria-valuemin=\"0\" aria-valuemax=\"100\">\n",
       "    200 / 200\n",
       "  </div>\n",
       "  <div class=\"progress-bar\" role=\"progressbar\" style=\"background-color: red; width: 0%\" aria-valuenow=\"0\" aria-valuemin=\"0\" aria-valuemax=\"100\"></div>\n",
       "</div>\n"
      ]
     },
     "metadata": {},
     "output_type": "display_data"
    },
    {
     "name": "stdout",
     "output_type": "stream",
     "text": [
      "+--------------+--------------+--------------------------+----------+----------+\n",
      "|Passenger 1 ID|Passenger 2 ID|Number of Flights Together|      From|        To|\n",
      "+--------------+--------------+--------------------------+----------+----------+\n",
      "|           701|           760|                        15|2017-01-01|2017-12-31|\n",
      "|          3503|          3590|                        14|2017-01-01|2017-12-31|\n",
      "|          2717|          2759|                        14|2017-01-01|2017-12-31|\n",
      "|          2939|          5490|                        13|2017-01-01|2017-12-31|\n",
      "|          3278|          5423|                        12|2017-01-01|2017-12-31|\n",
      "|          1208|          3093|                        12|2017-01-01|2017-12-31|\n",
      "|           382|           392|                        12|2017-01-01|2017-12-31|\n",
      "|           701|           763|                        12|2017-01-01|2017-12-31|\n",
      "|          4316|          4373|                        12|2017-01-01|2017-12-31|\n",
      "|          1337|          2867|                        12|2017-01-01|2017-12-31|\n",
      "|           975|          1371|                        12|2017-01-01|2017-12-31|\n",
      "|          1337|          1484|                        12|2017-01-01|2017-12-31|\n",
      "|          2759|          4316|                        12|2017-01-01|2017-12-31|\n",
      "|          4395|          4399|                        12|2017-01-01|2017-12-31|\n",
      "|          7877|          9252|                        12|2017-01-01|2017-12-31|\n",
      "|           760|           763|                        12|2017-01-01|2017-12-31|\n",
      "|          2939|          4395|                        12|2017-01-01|2017-12-31|\n",
      "|          3021|          9522|                        12|2017-01-01|2017-12-31|\n",
      "|          2926|          3590|                        12|2017-01-01|2017-12-31|\n",
      "|           366|           374|                        12|2017-01-01|2017-12-31|\n",
      "+--------------+--------------+--------------------------+----------+----------+\n",
      "only showing top 20 rows\n",
      "\n"
     ]
    }
   ],
   "source": [
    "flightsTogether.show()"
   ]
  },
  {
   "cell_type": "code",
   "execution_count": 32,
   "id": "95d9cfa8",
   "metadata": {},
   "outputs": [
    {
     "name": "stdout",
     "output_type": "stream",
     "text": [
      "File already exists.\n"
     ]
    },
    {
     "data": {
      "text/plain": [
       "\u001b[36mquestionExtra\u001b[39m: \u001b[32mDataFrame\u001b[39m = [Passenger 1 ID: int, Passenger 2 ID: int ... 3 more fields]"
      ]
     },
     "execution_count": 32,
     "metadata": {},
     "output_type": "execute_result"
    }
   ],
   "source": [
    "val questionExtra = flightsTogether.toDF()\n",
    "\n",
    "try {\n",
    "    questionExtra.coalesce(1)\n",
    "      .write.format(\"com.databricks.spark.csv\")\n",
    "      .option(\"header\", \"true\")\n",
    "      .option(\"delimiter\", \",\")\n",
    "      .csv(\"questionExtra.csv\")\n",
    "} catch {\n",
    "    case e: AnalysisException => println(\"File already exists.\")\n",
    "}"
   ]
  }
 ],
 "metadata": {
  "kernelspec": {
   "display_name": "Scala",
   "language": "scala",
   "name": "scala"
  },
  "language_info": {
   "codemirror_mode": "text/x-scala",
   "file_extension": ".sc",
   "mimetype": "text/x-scala",
   "name": "scala",
   "nbconvert_exporter": "script",
   "version": "2.12.10"
  }
 },
 "nbformat": 4,
 "nbformat_minor": 5
}
